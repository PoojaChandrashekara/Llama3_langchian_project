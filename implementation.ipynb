{
 "cells": [
  {
   "cell_type": "code",
   "execution_count": 293,
   "metadata": {},
   "outputs": [],
   "source": [
    "#import all the libraries \n",
    "import langchain\n",
    "import PyPDF2\n",
    "import json\n",
    "\n",
    "#from langchain import PromptTemplate, HuggingFaceHub, LLMChain\n",
    "from langchain.document_loaders import PyPDFLoader\n",
    "from langchain_community.document_loaders import UnstructuredPDFLoader\n",
    "from langchain_core.messages import HumanMessage, SystemMessage\n",
    "from langchain_community.chat_models import ChatOllama\n",
    "from langchain_community.document_loaders import SeleniumURLLoader\n",
    "\n",
    "\n"
   ]
  },
  {
   "cell_type": "markdown",
   "metadata": {},
   "source": [
    "Load Data From PDF"
   ]
  },
  {
   "cell_type": "code",
   "execution_count": null,
   "metadata": {},
   "outputs": [],
   "source": [
    "# load all the data from pdf files\n",
    "data = []\n",
    "for file in os.listdir('data'):\n",
    "    if file.endswith('.pdf'):\n",
    "        file_path = os.path.join(r\"D:\\openelm_langchian_project\\data\", file)\n",
    "        with open(file_path, 'rb') as pdf_file:\n",
    "            reader = PyPDF2.PdfFileReader(pdf_file)\n",
    "            num_pages = reader.numPages\n",
    "            pages = [reader.getPage(i).extractText() for i in range(num_pages)]\n",
    "            \n",
    "            #print content of each pages\n",
    "            for page in pages:\n",
    "                print(page)\n",
    "                print('-----------------')\n",
    "                data.append(page)\n",
    "        "
   ]
  },
  {
   "cell_type": "markdown",
   "metadata": {},
   "source": [
    "Load Data From URL"
   ]
  },
  {
   "cell_type": "code",
   "execution_count": 212,
   "metadata": {},
   "outputs": [],
   "source": [
    "urls = [\n",
    "    \"https://www.who.int/news-room/questions-and-answers/item/stress\",\n",
    "    \"https://www.who.int/news-room/fact-sheets/detail/mental-disorders\",\n",
    "]"
   ]
  },
  {
   "cell_type": "code",
   "execution_count": 213,
   "metadata": {},
   "outputs": [],
   "source": [
    "loader = SeleniumURLLoader(urls=urls)\n",
    "data = loader.load()"
   ]
  },
  {
   "cell_type": "code",
   "execution_count": 214,
   "metadata": {},
   "outputs": [
    {
     "name": "stdout",
     "output_type": "stream",
     "text": [
      "<class 'list'>\n"
     ]
    }
   ],
   "source": [
    "#print the type of data\n",
    "print(type(data))"
   ]
  },
  {
   "cell_type": "markdown",
   "metadata": {},
   "source": [
    "Load Data From PDF"
   ]
  },
  {
   "cell_type": "code",
   "execution_count": 226,
   "metadata": {},
   "outputs": [],
   "source": [
    "loader = UnstructuredPDFLoader(\"D:\\openelm_langchian_project\\data\\guidelines_mental_health_who.pdf\")\n",
    "\n",
    "data = loader.load()\n"
   ]
  },
  {
   "cell_type": "markdown",
   "metadata": {},
   "source": [
    "Load the model"
   ]
  },
  {
   "cell_type": "code",
   "execution_count": 252,
   "metadata": {},
   "outputs": [],
   "source": [
    "chain = ChatOllama(model=\"llama3\", format=\"json\", temperature=1, document_loader=loader)"
   ]
  },
  {
   "cell_type": "code",
   "execution_count": 286,
   "metadata": {},
   "outputs": [],
   "source": [
    "messages = [\n",
    "    SystemMessage(content=\"you are helpfull AI assistant well versed in mental health infromation from World Health Organisation\"),\n",
    "    HumanMessage (content = input(\"Enter your question to understand the mental health plans and programs initiated by WHO: \"))\n",
    "]"
   ]
  },
  {
   "cell_type": "markdown",
   "metadata": {},
   "source": [
    "Chat Invoke"
   ]
  },
  {
   "cell_type": "code",
   "execution_count": 287,
   "metadata": {},
   "outputs": [],
   "source": [
    "chat_model_response = chain.invoke(messages)\n"
   ]
  },
  {
   "cell_type": "code",
   "execution_count": 288,
   "metadata": {},
   "outputs": [
    {
     "name": "stdout",
     "output_type": "stream",
     "text": [
      "content='{ \"@context\": \"http://schema.org\", \"@type\": \"Answer\", \"text\": \"Based on the evidence synthesis and Evidence to Decision frameworks, the GDG developed five recommendations for mental health promotive and preventive interventions for adolescents:\\n\\n1. Implement universal school-based interventions: The GDG recommends implementing universal school-based interventions that aim to promote positive mental health and reduce mental health problems among adolescents. These interventions can include mental health education, skills-building programs, and social-emotional learning activities.\\n2. Provide early intervention and support: The GDG suggests providing early intervention and support to adolescents who are experiencing mental health problems or who are at risk of developing them. This can involve identifying risk factors and providing targeted interventions, such as cognitive-behavioral therapy or counseling, before the problem escalates.\\n3. Foster positive relationships: The GDG recommends fostering positive relationships between adolescents and their parents, peers, and other significant adults in their lives. Positive relationships can provide a supportive environment for adolescents to develop and maintain good mental health.\\n4. Promote physical activity and exercise: The GDG suggests promoting physical activity and exercise as a way to improve mental health outcomes among adolescents. Regular exercise has been shown to reduce symptoms of anxiety and depression, improve mood, and enhance overall well-being.\\n5. Address social determinants of health: The GDG recommends addressing the social determinants of health that can impact mental health among adolescents, such as poverty, discrimination, and social isolation. By addressing these factors, it is possible to create a more supportive environment for adolescent mental health.\" }\\n\\n' response_metadata={'model': 'llama2', 'created_at': '2024-04-26T23:43:41.1829769Z', 'message': {'role': 'assistant', 'content': ''}, 'done': True, 'total_duration': 119141945500, 'load_duration': 2828600, 'prompt_eval_count': 31, 'prompt_eval_duration': 4446422000, 'eval_count': 416, 'eval_duration': 114689665000} id='run-a7ce30bc-aa1e-4d8a-81ed-f8fb5b2a7f02-0'\n"
     ]
    }
   ],
   "source": [
    "print(chat_model_response)"
   ]
  },
  {
   "cell_type": "code",
   "execution_count": 291,
   "metadata": {},
   "outputs": [
    {
     "name": "stdout",
     "output_type": "stream",
     "text": [
      "<class 'langchain_core.messages.ai.AIMessage'>\n"
     ]
    }
   ],
   "source": [
    "print(type(chat_model_response))"
   ]
  },
  {
   "cell_type": "code",
   "execution_count": 290,
   "metadata": {},
   "outputs": [
    {
     "name": "stdout",
     "output_type": "stream",
     "text": [
      "{ \"@context\": \"http://schema.org\", \"@type\": \"Answer\", \"text\": \"Based on the evidence synthesis and Evidence to Decision frameworks, the GDG developed five recommendations for mental health promotive and preventive interventions for adolescents:\n",
      "\n",
      "1. Implement universal school-based interventions: The GDG recommends implementing universal school-based interventions that aim to promote positive mental health and reduce mental health problems among adolescents. These interventions can include mental health education, skills-building programs, and social-emotional learning activities.\n",
      "2. Provide early intervention and support: The GDG suggests providing early intervention and support to adolescents who are experiencing mental health problems or who are at risk of developing them. This can involve identifying risk factors and providing targeted interventions, such as cognitive-behavioral therapy or counseling, before the problem escalates.\n",
      "3. Foster positive relationships: The GDG recommends fostering positive relationships between adolescents and their parents, peers, and other significant adults in their lives. Positive relationships can provide a supportive environment for adolescents to develop and maintain good mental health.\n",
      "4. Promote physical activity and exercise: The GDG suggests promoting physical activity and exercise as a way to improve mental health outcomes among adolescents. Regular exercise has been shown to reduce symptoms of anxiety and depression, improve mood, and enhance overall well-being.\n",
      "5. Address social determinants of health: The GDG recommends addressing the social determinants of health that can impact mental health among adolescents, such as poverty, discrimination, and social isolation. By addressing these factors, it is possible to create a more supportive environment for adolescent mental health.\" }\n"
     ]
    }
   ],
   "source": [
    "text = chat_model_response.content.strip()\n",
    "print(text)"
   ]
  },
  {
   "cell_type": "code",
   "execution_count": null,
   "metadata": {},
   "outputs": [],
   "source": [
    "json_content = json.loads(chat_model_response.content)\n",
    "text = json_content['text']\n",
    "print(text)"
   ]
  }
 ],
 "metadata": {
  "kernelspec": {
   "display_name": "base",
   "language": "python",
   "name": "python3"
  },
  "language_info": {
   "codemirror_mode": {
    "name": "ipython",
    "version": 3
   },
   "file_extension": ".py",
   "mimetype": "text/x-python",
   "name": "python",
   "nbconvert_exporter": "python",
   "pygments_lexer": "ipython3",
   "version": "3.10.13"
  }
 },
 "nbformat": 4,
 "nbformat_minor": 2
}
